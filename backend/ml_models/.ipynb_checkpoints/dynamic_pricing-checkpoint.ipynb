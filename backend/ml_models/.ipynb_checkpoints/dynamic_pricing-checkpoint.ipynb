{
 "cells": [
  {
   "cell_type": "code",
   "execution_count": null,
   "metadata": {
    "vscode": {
     "languageId": "plaintext"
    }
   },
   "outputs": [
    {
     "name": "stderr",
     "output_type": "stream",
     "text": [
      "Matplotlib is building the font cache; this may take a moment.\n"
     ]
    }
   ],
   "source": [
    "import pandas as pd\n",
    "import matplotlib.pyplot as plt\n",
    "import seaborn as sns\n",
    "\n",
    "# Load the sample data\n",
    "data = pd.DataFrame({\n",
    "    'location': [1, 2, 3, 4, 1, 2, 3, 4],\n",
    "    'time_of_day': [12, 18, 22, 6, 12, 18, 22, 6],\n",
    "    'weather': [0, 1, 0, 1, 0, 1, 0, 1],\n",
    "    'demand': [100, 150, 50, 200, 120, 130, 80, 220],\n",
    "    'price': [10, 12, 8, 14, 11, 13, 9, 15]\n",
    "})\n",
    "\n",
    "# Display first few rows\n",
    "data.head()\n"
   ]
  },
  {
   "cell_type": "code",
   "execution_count": null,
   "metadata": {
    "vscode": {
     "languageId": "plaintext"
    }
   },
   "outputs": [],
   "source": [
    "# Visualize the demand vs. time of day\n",
    "plt.figure(figsize=(8, 5))\n",
    "sns.barplot(x='time_of_day', y='demand', hue='weather', data=data)\n",
    "plt.title('Bike Demand vs Time of Day and Weather')\n",
    "plt.show()\n",
    "\n",
    "\n"
   ]
  },
  {
   "cell_type": "code",
   "execution_count": null,
   "metadata": {
    "vscode": {
     "languageId": "plaintext"
    }
   },
   "outputs": [],
   "source": [
    "# Define a dynamic pricing function\n",
    "def dynamic_price(row):\n",
    "    base_price = row['price']\n",
    "    if row['demand'] > 150:\n",
    "        base_price *= 1.2  # Surge pricing for high demand\n",
    "    if row['weather'] == 1:\n",
    "        base_price *= 0.9  # Discount for rainy weather\n",
    "    return base_price\n",
    "\n",
    "# Apply dynamic pricing\n",
    "data['dynamic_price'] = data.apply(dynamic_price, axis=1)\n",
    "\n",
    "# Show updated data with dynamic prices\n",
    "data[['location', 'time_of_day', 'demand', 'weather', 'price', 'dynamic_price']]\n"
   ]
  },
  {
   "cell_type": "code",
   "execution_count": null,
   "metadata": {},
   "outputs": [],
   "source": []
  },
  {
   "cell_type": "code",
   "execution_count": null,
   "metadata": {},
   "outputs": [],
   "source": []
  },
  {
   "cell_type": "code",
   "execution_count": null,
   "metadata": {},
   "outputs": [],
   "source": []
  },
  {
   "cell_type": "code",
   "execution_count": null,
   "metadata": {},
   "outputs": [],
   "source": []
  }
 ],
 "metadata": {
  "kernelspec": {
   "display_name": "Python 3 (ipykernel)",
   "language": "python",
   "name": "python3"
  },
  "language_info": {
   "codemirror_mode": {
    "name": "ipython",
    "version": 3
   },
   "file_extension": ".py",
   "mimetype": "text/x-python",
   "name": "python",
   "nbconvert_exporter": "python",
   "pygments_lexer": "ipython3",
   "version": "3.9.6"
  }
 },
 "nbformat": 4,
 "nbformat_minor": 4
}
